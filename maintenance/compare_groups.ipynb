{
 "cells": [
  {
   "cell_type": "markdown",
   "metadata": {},
   "source": [
    "This notebook is for exploring how to compare the quality of sensors"
   ]
  },
  {
   "cell_type": "code",
   "execution_count": 2,
   "metadata": {},
   "outputs": [
    {
     "name": "stdout",
     "output_type": "stream",
     "text": [
      "The autoreload extension is already loaded. To reload it, use:\n",
      "  %reload_ext autoreload\n"
     ]
    }
   ],
   "source": [
    "# import sys\n",
    "# sys.path.append(r'C:\\Users\\steineph\\DataAnalysis\\UWO-Dataanalysis\\libs')\n",
    "from libs.UWO_DataAnalysis import helper_functions\n",
    "from ipywidgets import  interactive, fixed, interact_manual\n",
    "%load_ext autoreload\n",
    "%autoreload 2"
   ]
  },
  {
   "cell_type": "code",
   "execution_count": 13,
   "metadata": {},
   "outputs": [
    {
     "name": "stdout",
     "output_type": "stream",
     "text": [
      "You are successfully connected to the database!\n"
     ]
    }
   ],
   "source": [
    "data_dataframe=helper_functions.filter_db_for_boxplot(sensor_group='bf', start='2022-01-01', parameter_unit='l/s', keyword='test')"
   ]
  },
  {
   "cell_type": "code",
   "execution_count": 15,
   "metadata": {},
   "outputs": [
    {
     "data": {
      "application/vnd.jupyter.widget-view+json": {
       "model_id": "7947cbb9bfd2450ea4f34b3a46c725db",
       "version_major": 2,
       "version_minor": 0
      },
      "text/plain": [
       "interactive(children=(SelectMultiple(description='Select the parameters that should be compared', layout=Layou…"
      ]
     },
     "metadata": {},
     "output_type": "display_data"
    }
   ],
   "source": [
    "def filter_data(data, valid_sources):\n",
    "    plot_data=data_dataframe[data_dataframe['parameter_name'].isin(valid_sources)]\n",
    "    return plot_data\n",
    "\n",
    "selection=interactive(filter_data, {'manual':True}, data=fixed(data_dataframe), \n",
    "                        valid_sources=helper_functions.generate_SelectMultipleWidget_for_boxplot(data=data_dataframe, column_name='parameter_name'))\n",
    "display(selection)\n"
   ]
  },
  {
   "cell_type": "code",
   "execution_count": 17,
   "metadata": {},
   "outputs": [
    {
     "data": {
      "text/html": [
       "<div>\n",
       "<style scoped>\n",
       "    .dataframe tbody tr th:only-of-type {\n",
       "        vertical-align: middle;\n",
       "    }\n",
       "\n",
       "    .dataframe tbody tr th {\n",
       "        vertical-align: top;\n",
       "    }\n",
       "\n",
       "    .dataframe thead th {\n",
       "        text-align: right;\n",
       "    }\n",
       "</style>\n",
       "<table border=\"1\" class=\"dataframe\">\n",
       "  <thead>\n",
       "    <tr style=\"text-align: right;\">\n",
       "      <th></th>\n",
       "      <th>value</th>\n",
       "      <th>timestamp</th>\n",
       "      <th>variable_id</th>\n",
       "      <th>source_id</th>\n",
       "      <th>source_name</th>\n",
       "      <th>parameter_name</th>\n",
       "      <th>unit</th>\n",
       "    </tr>\n",
       "  </thead>\n",
       "  <tbody>\n",
       "    <tr>\n",
       "      <th>0</th>\n",
       "      <td>0.0000</td>\n",
       "      <td>2022-01-20 00:00:00</td>\n",
       "      <td>4</td>\n",
       "      <td>235</td>\n",
       "      <td>bf_plsRKBA1101_rubbasin_ara_overflow</td>\n",
       "      <td>flow_rate</td>\n",
       "      <td>l/s</td>\n",
       "    </tr>\n",
       "    <tr>\n",
       "      <th>1</th>\n",
       "      <td>0.0000</td>\n",
       "      <td>2022-01-20 00:01:00</td>\n",
       "      <td>4</td>\n",
       "      <td>235</td>\n",
       "      <td>bf_plsRKBA1101_rubbasin_ara_overflow</td>\n",
       "      <td>flow_rate</td>\n",
       "      <td>l/s</td>\n",
       "    </tr>\n",
       "    <tr>\n",
       "      <th>2</th>\n",
       "      <td>0.0000</td>\n",
       "      <td>2022-01-20 00:02:00</td>\n",
       "      <td>4</td>\n",
       "      <td>235</td>\n",
       "      <td>bf_plsRKBA1101_rubbasin_ara_overflow</td>\n",
       "      <td>flow_rate</td>\n",
       "      <td>l/s</td>\n",
       "    </tr>\n",
       "    <tr>\n",
       "      <th>3</th>\n",
       "      <td>0.0000</td>\n",
       "      <td>2022-01-20 00:03:00</td>\n",
       "      <td>4</td>\n",
       "      <td>235</td>\n",
       "      <td>bf_plsRKBA1101_rubbasin_ara_overflow</td>\n",
       "      <td>flow_rate</td>\n",
       "      <td>l/s</td>\n",
       "    </tr>\n",
       "    <tr>\n",
       "      <th>4</th>\n",
       "      <td>0.0000</td>\n",
       "      <td>2022-01-20 00:04:00</td>\n",
       "      <td>4</td>\n",
       "      <td>235</td>\n",
       "      <td>bf_plsRKBA1101_rubbasin_ara_overflow</td>\n",
       "      <td>flow_rate</td>\n",
       "      <td>l/s</td>\n",
       "    </tr>\n",
       "    <tr>\n",
       "      <th>...</th>\n",
       "      <td>...</td>\n",
       "      <td>...</td>\n",
       "      <td>...</td>\n",
       "      <td>...</td>\n",
       "      <td>...</td>\n",
       "      <td>...</td>\n",
       "      <td>...</td>\n",
       "    </tr>\n",
       "    <tr>\n",
       "      <th>4750208</th>\n",
       "      <td>28.8243</td>\n",
       "      <td>2022-11-09 23:55:00</td>\n",
       "      <td>4</td>\n",
       "      <td>1</td>\n",
       "      <td>bf_plsZUL1100_inflow_ara</td>\n",
       "      <td>flow_rate</td>\n",
       "      <td>l/s</td>\n",
       "    </tr>\n",
       "    <tr>\n",
       "      <th>4750209</th>\n",
       "      <td>30.5832</td>\n",
       "      <td>2022-11-09 23:56:00</td>\n",
       "      <td>4</td>\n",
       "      <td>1</td>\n",
       "      <td>bf_plsZUL1100_inflow_ara</td>\n",
       "      <td>flow_rate</td>\n",
       "      <td>l/s</td>\n",
       "    </tr>\n",
       "    <tr>\n",
       "      <th>4750210</th>\n",
       "      <td>32.8217</td>\n",
       "      <td>2022-11-09 23:57:00</td>\n",
       "      <td>4</td>\n",
       "      <td>1</td>\n",
       "      <td>bf_plsZUL1100_inflow_ara</td>\n",
       "      <td>flow_rate</td>\n",
       "      <td>l/s</td>\n",
       "    </tr>\n",
       "    <tr>\n",
       "      <th>4750211</th>\n",
       "      <td>34.1661</td>\n",
       "      <td>2022-11-09 23:58:00</td>\n",
       "      <td>4</td>\n",
       "      <td>1</td>\n",
       "      <td>bf_plsZUL1100_inflow_ara</td>\n",
       "      <td>flow_rate</td>\n",
       "      <td>l/s</td>\n",
       "    </tr>\n",
       "    <tr>\n",
       "      <th>4750212</th>\n",
       "      <td>34.9130</td>\n",
       "      <td>2022-11-09 23:59:00</td>\n",
       "      <td>4</td>\n",
       "      <td>1</td>\n",
       "      <td>bf_plsZUL1100_inflow_ara</td>\n",
       "      <td>flow_rate</td>\n",
       "      <td>l/s</td>\n",
       "    </tr>\n",
       "  </tbody>\n",
       "</table>\n",
       "<p>4750213 rows × 7 columns</p>\n",
       "</div>"
      ],
      "text/plain": [
       "           value            timestamp  variable_id  source_id  \\\n",
       "0         0.0000  2022-01-20 00:00:00            4        235   \n",
       "1         0.0000  2022-01-20 00:01:00            4        235   \n",
       "2         0.0000  2022-01-20 00:02:00            4        235   \n",
       "3         0.0000  2022-01-20 00:03:00            4        235   \n",
       "4         0.0000  2022-01-20 00:04:00            4        235   \n",
       "...          ...                  ...          ...        ...   \n",
       "4750208  28.8243  2022-11-09 23:55:00            4          1   \n",
       "4750209  30.5832  2022-11-09 23:56:00            4          1   \n",
       "4750210  32.8217  2022-11-09 23:57:00            4          1   \n",
       "4750211  34.1661  2022-11-09 23:58:00            4          1   \n",
       "4750212  34.9130  2022-11-09 23:59:00            4          1   \n",
       "\n",
       "                                  source_name parameter_name unit  \n",
       "0        bf_plsRKBA1101_rubbasin_ara_overflow      flow_rate  l/s  \n",
       "1        bf_plsRKBA1101_rubbasin_ara_overflow      flow_rate  l/s  \n",
       "2        bf_plsRKBA1101_rubbasin_ara_overflow      flow_rate  l/s  \n",
       "3        bf_plsRKBA1101_rubbasin_ara_overflow      flow_rate  l/s  \n",
       "4        bf_plsRKBA1101_rubbasin_ara_overflow      flow_rate  l/s  \n",
       "...                                       ...            ...  ...  \n",
       "4750208              bf_plsZUL1100_inflow_ara      flow_rate  l/s  \n",
       "4750209              bf_plsZUL1100_inflow_ara      flow_rate  l/s  \n",
       "4750210              bf_plsZUL1100_inflow_ara      flow_rate  l/s  \n",
       "4750211              bf_plsZUL1100_inflow_ara      flow_rate  l/s  \n",
       "4750212              bf_plsZUL1100_inflow_ara      flow_rate  l/s  \n",
       "\n",
       "[4750213 rows x 7 columns]"
      ]
     },
     "execution_count": 17,
     "metadata": {},
     "output_type": "execute_result"
    }
   ],
   "source": [
    "selection.result"
   ]
  },
  {
   "cell_type": "code",
   "execution_count": 19,
   "metadata": {},
   "outputs": [
    {
     "data": {
      "application/vnd.jupyter.widget-view+json": {
       "model_id": "16cb8feedb76407a80b5a3487a781683",
       "version_major": 2,
       "version_minor": 0
      },
      "text/plain": [
       "interactive(children=(Text(value='compare sensors', description='title'), Text(value='', description='Enter na…"
      ]
     },
     "metadata": {},
     "output_type": "display_data"
    },
    {
     "data": {
      "text/plain": [
       "<function libs.UWO_DataAnalysis.helper_functions.plot_boxplot(data, coloring_attribute, grouping_attribute, title, img_name, save_directory='', showOutliers=True, y_lims=None)>"
      ]
     },
     "execution_count": 19,
     "metadata": {},
     "output_type": "execute_result"
    }
   ],
   "source": [
    "interact_manual(helper_functions.plot_boxplot, data=fixed(selection.result),coloring_attribute=fixed('source_name'),grouping_attribute=fixed('month'), title='compare sensors',img_name=helper_functions.generate_ImgNameWidget(), save_directory=helper_functions.generate_SavePathWidget(), showOutliers=True, y_lims=helper_functions.generate_ylim(data=selection.result['value']))"
   ]
  }
 ],
 "metadata": {
  "kernelspec": {
   "display_name": "Python 3.10.4 ('winpc')",
   "language": "python",
   "name": "python3"
  },
  "language_info": {
   "codemirror_mode": {
    "name": "ipython",
    "version": 3
   },
   "file_extension": ".py",
   "mimetype": "text/x-python",
   "name": "python",
   "nbconvert_exporter": "python",
   "pygments_lexer": "ipython3",
   "version": "3.10.4"
  },
  "orig_nbformat": 4,
  "vscode": {
   "interpreter": {
    "hash": "c26d4aa78fe80b02c41b44be65e36c568c99689bb38a581d3844faf0517ea7ee"
   }
  }
 },
 "nbformat": 4,
 "nbformat_minor": 2
}
