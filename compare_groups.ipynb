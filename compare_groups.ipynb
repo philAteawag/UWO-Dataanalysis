{
 "cells": [
  {
   "cell_type": "markdown",
   "metadata": {},
   "source": [
    "This notebook is for exploring how to compare the quality of sensors"
   ]
  },
  {
   "cell_type": "code",
   "execution_count": 1,
   "metadata": {},
   "outputs": [
    {
     "data": {
      "text/html": [
       "        <script type=\"text/javascript\">\n",
       "        window.PlotlyConfig = {MathJaxConfig: 'local'};\n",
       "        if (window.MathJax && window.MathJax.Hub && window.MathJax.Hub.Config) {window.MathJax.Hub.Config({SVG: {font: \"STIX-Web\"}});}\n",
       "        if (typeof require !== 'undefined') {\n",
       "        require.undef(\"plotly\");\n",
       "        requirejs.config({\n",
       "            paths: {\n",
       "                'plotly': ['https://cdn.plot.ly/plotly-2.14.0.min']\n",
       "            }\n",
       "        });\n",
       "        require(['plotly'], function(Plotly) {\n",
       "            window._Plotly = Plotly;\n",
       "        });\n",
       "        }\n",
       "        </script>\n",
       "        "
      ]
     },
     "metadata": {},
     "output_type": "display_data"
    }
   ],
   "source": [
    "import sys\n",
    "sys.path.append(r'C:\\Users\\steineph\\DataAnalysis\\UWO-Dataanalysis\\libs')\n",
    "from UWO_DataAnalysis import helper_functions\n",
    "from ipywidgets import  interactive, fixed, interact_manual\n",
    "%load_ext autoreload\n",
    "%autoreload 2"
   ]
  },
  {
   "cell_type": "code",
   "execution_count": 2,
   "metadata": {},
   "outputs": [
    {
     "name": "stdout",
     "output_type": "stream",
     "text": [
      "You are successfully connected to the database!\n"
     ]
    }
   ],
   "source": [
    "data_dataframe=helper_functions.filter_db_for_boxplot(sensor_group='bf', start='2022-01-01', parameter_unit='l/s', keyword='test')"
   ]
  },
  {
   "cell_type": "code",
   "execution_count": null,
   "metadata": {},
   "outputs": [],
   "source": [
    "def filter_data(data, valid_sources):\n",
    "    plot_data=data_dataframe[data_dataframe['parameter_name'].isin(valid_sources)]\n",
    "    return plot_data\n",
    "\n",
    "selection=interactive(filter_data, {'manual':True}, data=fixed(data_dataframe), \n",
    "                        valid_sources=helper_functions.generate_SelectMultipleWidget_for_boxplot(data=data_dataframe, column_name='parameter_name'))\n",
    "display(selection)\n"
   ]
  },
  {
   "cell_type": "code",
   "execution_count": null,
   "metadata": {},
   "outputs": [],
   "source": [
    "selection.result"
   ]
  },
  {
   "cell_type": "code",
   "execution_count": null,
   "metadata": {},
   "outputs": [],
   "source": [
    "interact_manual(helper_functions.plot_boxplot, data=fixed(selection.result),coloring_attribute=fixed('month'),grouping_attribute=fixed('source_name'), title='compare sensors',img_name=helper_functions.generate_ImgNameWidget(), save_directory=helper_functions.generate_SavePathWidget(), showOutliers=True, y_lims=helper_functions.generate_ylim(data=selection.result['value']))"
   ]
  },
  {
   "cell_type": "code",
   "execution_count": null,
   "metadata": {},
   "outputs": [],
   "source": []
  }
 ],
 "metadata": {
  "kernelspec": {
   "display_name": "Python 3.10.4 ('zivi2')",
   "language": "python",
   "name": "python3"
  },
  "language_info": {
   "codemirror_mode": {
    "name": "ipython",
    "version": 3
   },
   "file_extension": ".py",
   "mimetype": "text/x-python",
   "name": "python",
   "nbconvert_exporter": "python",
   "pygments_lexer": "ipython3",
   "version": "3.10.4"
  },
  "orig_nbformat": 4,
  "vscode": {
   "interpreter": {
    "hash": "08eb65fc6abe2134183eca657699ed17b99ca7fdb4c51a541479ddf730d9297b"
   }
  }
 },
 "nbformat": 4,
 "nbformat_minor": 2
}
