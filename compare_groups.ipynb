{
 "cells": [
  {
   "cell_type": "markdown",
   "metadata": {},
   "source": [
    "This notebook is for exploring how to compare the quality of sensors"
   ]
  },
  {
   "cell_type": "code",
   "execution_count": 1,
   "metadata": {},
   "outputs": [
    {
     "data": {
      "text/html": [
       "        <script type=\"text/javascript\">\n",
       "        window.PlotlyConfig = {MathJaxConfig: 'local'};\n",
       "        if (window.MathJax && window.MathJax.Hub && window.MathJax.Hub.Config) {window.MathJax.Hub.Config({SVG: {font: \"STIX-Web\"}});}\n",
       "        if (typeof require !== 'undefined') {\n",
       "        require.undef(\"plotly\");\n",
       "        requirejs.config({\n",
       "            paths: {\n",
       "                'plotly': ['https://cdn.plot.ly/plotly-2.14.0.min']\n",
       "            }\n",
       "        });\n",
       "        require(['plotly'], function(Plotly) {\n",
       "            window._Plotly = Plotly;\n",
       "        });\n",
       "        }\n",
       "        </script>\n",
       "        "
      ]
     },
     "metadata": {},
     "output_type": "display_data"
    }
   ],
   "source": [
    "# import sys\n",
    "# sys.path.append(r'C:\\Users\\steineph\\DataAnalysis\\UWO-Dataanalysis\\libs')\n",
    "from libs.UWO_DataAnalysis import helper_functions\n",
    "from ipywidgets import  interactive, fixed, interact_manual\n",
    "%load_ext autoreload\n",
    "%autoreload 2"
   ]
  },
  {
   "cell_type": "code",
   "execution_count": 18,
   "metadata": {},
   "outputs": [
    {
     "name": "stdout",
     "output_type": "stream",
     "text": [
      "You are successfully connected to the database!\n"
     ]
    }
   ],
   "source": [
    "data_dataframe=helper_functions.filter_db_for_boxplot(sensor_group='bf', start='2022-01-01', parameter_unit='l/s', keyword='test')"
   ]
  },
  {
   "cell_type": "code",
   "execution_count": 17,
   "metadata": {},
   "outputs": [
    {
     "data": {
      "application/vnd.jupyter.widget-view+json": {
       "model_id": "6985b504168a40cba16b7aef0bc2a487",
       "version_major": 2,
       "version_minor": 0
      },
      "text/plain": [
       "interactive(children=(SelectMultiple(description='Select the parameters that should be compared', layout=Layou…"
      ]
     },
     "metadata": {},
     "output_type": "display_data"
    }
   ],
   "source": [
    "def filter_data(data, valid_sources):\n",
    "    plot_data=data_dataframe[data_dataframe['parameter_name'].isin(valid_sources)]\n",
    "    return plot_data\n",
    "\n",
    "selection=interactive(filter_data, {'manual':True}, data=fixed(data_dataframe), \n",
    "                        valid_sources=helper_functions.generate_SelectMultipleWidget_for_boxplot(data=data_dataframe, column_name='parameter_name'))\n",
    "display(selection)\n"
   ]
  },
  {
   "cell_type": "code",
   "execution_count": 12,
   "metadata": {},
   "outputs": [
    {
     "data": {
      "text/html": [
       "<div>\n",
       "<style scoped>\n",
       "    .dataframe tbody tr th:only-of-type {\n",
       "        vertical-align: middle;\n",
       "    }\n",
       "\n",
       "    .dataframe tbody tr th {\n",
       "        vertical-align: top;\n",
       "    }\n",
       "\n",
       "    .dataframe thead th {\n",
       "        text-align: right;\n",
       "    }\n",
       "</style>\n",
       "<table border=\"1\" class=\"dataframe\">\n",
       "  <thead>\n",
       "    <tr style=\"text-align: right;\">\n",
       "      <th></th>\n",
       "      <th>value</th>\n",
       "      <th>timestamp</th>\n",
       "      <th>parameter_id</th>\n",
       "      <th>source_id</th>\n",
       "      <th>source_name</th>\n",
       "      <th>parameter_name</th>\n",
       "      <th>unit</th>\n",
       "    </tr>\n",
       "  </thead>\n",
       "  <tbody>\n",
       "    <tr>\n",
       "      <th>0</th>\n",
       "      <td>13.8750</td>\n",
       "      <td>2022-05-19 00:01:09</td>\n",
       "      <td>7</td>\n",
       "      <td>229</td>\n",
       "      <td>bt_dl953_11e_russikerstr</td>\n",
       "      <td>water_temperature</td>\n",
       "      <td>°C</td>\n",
       "    </tr>\n",
       "    <tr>\n",
       "      <th>1</th>\n",
       "      <td>13.8750</td>\n",
       "      <td>2022-05-19 00:09:05</td>\n",
       "      <td>7</td>\n",
       "      <td>229</td>\n",
       "      <td>bt_dl953_11e_russikerstr</td>\n",
       "      <td>water_temperature</td>\n",
       "      <td>°C</td>\n",
       "    </tr>\n",
       "    <tr>\n",
       "      <th>2</th>\n",
       "      <td>13.8750</td>\n",
       "      <td>2022-05-19 00:12:07</td>\n",
       "      <td>7</td>\n",
       "      <td>229</td>\n",
       "      <td>bt_dl953_11e_russikerstr</td>\n",
       "      <td>water_temperature</td>\n",
       "      <td>°C</td>\n",
       "    </tr>\n",
       "    <tr>\n",
       "      <th>3</th>\n",
       "      <td>13.8125</td>\n",
       "      <td>2022-05-19 00:14:08</td>\n",
       "      <td>7</td>\n",
       "      <td>229</td>\n",
       "      <td>bt_dl953_11e_russikerstr</td>\n",
       "      <td>water_temperature</td>\n",
       "      <td>°C</td>\n",
       "    </tr>\n",
       "    <tr>\n",
       "      <th>4</th>\n",
       "      <td>13.8125</td>\n",
       "      <td>2022-05-19 00:16:10</td>\n",
       "      <td>7</td>\n",
       "      <td>229</td>\n",
       "      <td>bt_dl953_11e_russikerstr</td>\n",
       "      <td>water_temperature</td>\n",
       "      <td>°C</td>\n",
       "    </tr>\n",
       "    <tr>\n",
       "      <th>...</th>\n",
       "      <td>...</td>\n",
       "      <td>...</td>\n",
       "      <td>...</td>\n",
       "      <td>...</td>\n",
       "      <td>...</td>\n",
       "      <td>...</td>\n",
       "      <td>...</td>\n",
       "    </tr>\n",
       "    <tr>\n",
       "      <th>11084058</th>\n",
       "      <td>18.2000</td>\n",
       "      <td>2022-09-21 23:55:00</td>\n",
       "      <td>7</td>\n",
       "      <td>145</td>\n",
       "      <td>bt_plsZUL1311_inflow_ara</td>\n",
       "      <td>water_temperature</td>\n",
       "      <td>°C</td>\n",
       "    </tr>\n",
       "    <tr>\n",
       "      <th>11084059</th>\n",
       "      <td>18.2188</td>\n",
       "      <td>2022-09-21 23:56:00</td>\n",
       "      <td>7</td>\n",
       "      <td>145</td>\n",
       "      <td>bt_plsZUL1311_inflow_ara</td>\n",
       "      <td>water_temperature</td>\n",
       "      <td>°C</td>\n",
       "    </tr>\n",
       "    <tr>\n",
       "      <th>11084060</th>\n",
       "      <td>18.2572</td>\n",
       "      <td>2022-09-21 23:57:00</td>\n",
       "      <td>7</td>\n",
       "      <td>145</td>\n",
       "      <td>bt_plsZUL1311_inflow_ara</td>\n",
       "      <td>water_temperature</td>\n",
       "      <td>°C</td>\n",
       "    </tr>\n",
       "    <tr>\n",
       "      <th>11084061</th>\n",
       "      <td>18.2909</td>\n",
       "      <td>2022-09-21 23:58:00</td>\n",
       "      <td>7</td>\n",
       "      <td>145</td>\n",
       "      <td>bt_plsZUL1311_inflow_ara</td>\n",
       "      <td>water_temperature</td>\n",
       "      <td>°C</td>\n",
       "    </tr>\n",
       "    <tr>\n",
       "      <th>11084062</th>\n",
       "      <td>18.3200</td>\n",
       "      <td>2022-09-21 23:59:00</td>\n",
       "      <td>7</td>\n",
       "      <td>145</td>\n",
       "      <td>bt_plsZUL1311_inflow_ara</td>\n",
       "      <td>water_temperature</td>\n",
       "      <td>°C</td>\n",
       "    </tr>\n",
       "  </tbody>\n",
       "</table>\n",
       "<p>6426427 rows × 7 columns</p>\n",
       "</div>"
      ],
      "text/plain": [
       "            value            timestamp  parameter_id  source_id  \\\n",
       "0         13.8750  2022-05-19 00:01:09             7        229   \n",
       "1         13.8750  2022-05-19 00:09:05             7        229   \n",
       "2         13.8750  2022-05-19 00:12:07             7        229   \n",
       "3         13.8125  2022-05-19 00:14:08             7        229   \n",
       "4         13.8125  2022-05-19 00:16:10             7        229   \n",
       "...           ...                  ...           ...        ...   \n",
       "11084058  18.2000  2022-09-21 23:55:00             7        145   \n",
       "11084059  18.2188  2022-09-21 23:56:00             7        145   \n",
       "11084060  18.2572  2022-09-21 23:57:00             7        145   \n",
       "11084061  18.2909  2022-09-21 23:58:00             7        145   \n",
       "11084062  18.3200  2022-09-21 23:59:00             7        145   \n",
       "\n",
       "                       source_name     parameter_name unit  \n",
       "0         bt_dl953_11e_russikerstr  water_temperature   °C  \n",
       "1         bt_dl953_11e_russikerstr  water_temperature   °C  \n",
       "2         bt_dl953_11e_russikerstr  water_temperature   °C  \n",
       "3         bt_dl953_11e_russikerstr  water_temperature   °C  \n",
       "4         bt_dl953_11e_russikerstr  water_temperature   °C  \n",
       "...                            ...                ...  ...  \n",
       "11084058  bt_plsZUL1311_inflow_ara  water_temperature   °C  \n",
       "11084059  bt_plsZUL1311_inflow_ara  water_temperature   °C  \n",
       "11084060  bt_plsZUL1311_inflow_ara  water_temperature   °C  \n",
       "11084061  bt_plsZUL1311_inflow_ara  water_temperature   °C  \n",
       "11084062  bt_plsZUL1311_inflow_ara  water_temperature   °C  \n",
       "\n",
       "[6426427 rows x 7 columns]"
      ]
     },
     "execution_count": 12,
     "metadata": {},
     "output_type": "execute_result"
    }
   ],
   "source": [
    "selection.result"
   ]
  },
  {
   "cell_type": "code",
   "execution_count": null,
   "metadata": {},
   "outputs": [],
   "source": [
    "interact_manual(helper_functions.plot_boxplot, data=fixed(selection.result),coloring_attribute=fixed('source_name'),grouping_attribute=fixed('month'), title='compare sensors',img_name=helper_functions.generate_ImgNameWidget(), save_directory=helper_functions.generate_SavePathWidget(), showOutliers=True, y_lims=helper_functions.generate_ylim(data=selection.result['value']))"
   ]
  }
 ],
 "metadata": {
  "kernelspec": {
   "display_name": "Python 3.10.4 ('winpc')",
   "language": "python",
   "name": "python3"
  },
  "language_info": {
   "codemirror_mode": {
    "name": "ipython",
    "version": 3
   },
   "file_extension": ".py",
   "mimetype": "text/x-python",
   "name": "python",
   "nbconvert_exporter": "python",
   "pygments_lexer": "ipython3",
   "version": "3.10.4"
  },
  "orig_nbformat": 4,
  "vscode": {
   "interpreter": {
    "hash": "c26d4aa78fe80b02c41b44be65e36c568c99689bb38a581d3844faf0517ea7ee"
   }
  }
 },
 "nbformat": 4,
 "nbformat_minor": 2
}
