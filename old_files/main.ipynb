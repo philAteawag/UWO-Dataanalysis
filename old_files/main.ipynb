{
 "cells": [
  {
   "cell_type": "code",
   "execution_count": 1,
   "metadata": {},
   "outputs": [
    {
     "data": {
      "text/html": [
       "        <script type=\"text/javascript\">\n",
       "        window.PlotlyConfig = {MathJaxConfig: 'local'};\n",
       "        if (window.MathJax && window.MathJax.Hub && window.MathJax.Hub.Config) {window.MathJax.Hub.Config({SVG: {font: \"STIX-Web\"}});}\n",
       "        if (typeof require !== 'undefined') {\n",
       "        require.undef(\"plotly\");\n",
       "        requirejs.config({\n",
       "            paths: {\n",
       "                'plotly': ['https://cdn.plot.ly/plotly-2.14.0.min']\n",
       "            }\n",
       "        });\n",
       "        require(['plotly'], function(Plotly) {\n",
       "            window._Plotly = Plotly;\n",
       "        });\n",
       "        }\n",
       "        </script>\n",
       "        "
      ]
     },
     "metadata": {},
     "output_type": "display_data"
    }
   ],
   "source": [
    "import sys\n",
    "sys.path.append(r'C:\\Users\\steineph\\DataAnalysis\\UWO-Dataanalysis\\libs')\n",
    "from datapool_client import DataPool\n",
    "from UWO_DataAnalysis import helper_functions\n",
    "import pandas as pd\n",
    "from tqdm.notebook import tqdm\n",
    "from matplotlib import pyplot as plt\n",
    "import seaborn as sns\n",
    "import os\n"
   ]
  },
  {
   "cell_type": "code",
   "execution_count": 2,
   "metadata": {},
   "outputs": [
    {
     "name": "stdout",
     "output_type": "stream",
     "text": [
      "You are successfully connected to the database!\n"
     ]
    },
    {
     "data": {
      "application/vnd.jupyter.widget-view+json": {
       "model_id": "29e0af7e1c9f467bafe1df1cea4e0f20",
       "version_major": 2,
       "version_minor": 0
      },
      "text/plain": [
       "  0%|          | 0/163 [00:00<?, ?it/s]"
      ]
     },
     "metadata": {},
     "output_type": "display_data"
    },
    {
     "name": "stdout",
     "output_type": "stream",
     "text": [
      "You are successfully connected to the database!\n"
     ]
    },
    {
     "ename": "KeyboardInterrupt",
     "evalue": "",
     "output_type": "error",
     "traceback": [
      "\u001b[1;31m---------------------------------------------------------------------------\u001b[0m",
      "\u001b[1;31mKeyboardInterrupt\u001b[0m                         Traceback (most recent call last)",
      "\u001b[1;32mc:\\Users\\steineph\\DataAnalysis\\UWO-Dataanalysis\\main.ipynb Zelle 2\u001b[0m in \u001b[0;36m<cell line: 3>\u001b[1;34m()\u001b[0m\n\u001b[0;32m      <a href='vscode-notebook-cell:/c%3A/Users/steineph/DataAnalysis/UWO-Dataanalysis/main.ipynb#X16sZmlsZQ%3D%3D?line=2'>3</a>\u001b[0m \u001b[39mfor\u001b[39;00m source \u001b[39min\u001b[39;00m tqdm(dp\u001b[39m.\u001b[39msource\u001b[39m.\u001b[39mall()[\u001b[39m'\u001b[39m\u001b[39mname\u001b[39m\u001b[39m'\u001b[39m]):\n\u001b[0;32m      <a href='vscode-notebook-cell:/c%3A/Users/steineph/DataAnalysis/UWO-Dataanalysis/main.ipynb#X16sZmlsZQ%3D%3D?line=3'>4</a>\u001b[0m     \u001b[39mtry\u001b[39;00m:\n\u001b[1;32m----> <a href='vscode-notebook-cell:/c%3A/Users/steineph/DataAnalysis/UWO-Dataanalysis/main.ipynb#X16sZmlsZQ%3D%3D?line=4'>5</a>\u001b[0m         plot_data\u001b[39m=\u001b[39mhelper_functions\u001b[39m.\u001b[39;49mplot_packages_received_histogram(source_name\u001b[39m=\u001b[39;49msource, start_date\u001b[39m=\u001b[39;49m\u001b[39m'\u001b[39;49m\u001b[39m2016-01-01\u001b[39;49m\u001b[39m'\u001b[39;49m, save_directory\u001b[39m=\u001b[39;49m\u001b[39mr\u001b[39;49m\u001b[39m'\u001b[39;49m\u001b[39mC:\u001b[39;49m\u001b[39m\\\u001b[39;49m\u001b[39mUsers\u001b[39;49m\u001b[39m\\\u001b[39;49m\u001b[39msteineph\u001b[39;49m\u001b[39m\\\u001b[39;49m\u001b[39mswitchdrive\u001b[39;49m\u001b[39m\\\u001b[39;49m\u001b[39mPrivate\u001b[39;49m\u001b[39m\\\u001b[39;49m\u001b[39mDatenanalyse_test\u001b[39;49m\u001b[39m'\u001b[39;49m)\n\u001b[0;32m      <a href='vscode-notebook-cell:/c%3A/Users/steineph/DataAnalysis/UWO-Dataanalysis/main.ipynb#X16sZmlsZQ%3D%3D?line=5'>6</a>\u001b[0m     \u001b[39mexcept\u001b[39;00m \u001b[39mException\u001b[39;00m \u001b[39mas\u001b[39;00m e:\n\u001b[0;32m      <a href='vscode-notebook-cell:/c%3A/Users/steineph/DataAnalysis/UWO-Dataanalysis/main.ipynb#X16sZmlsZQ%3D%3D?line=6'>7</a>\u001b[0m         \u001b[39mprint\u001b[39m(e)\n",
      "File \u001b[1;32m~\\DataAnalysis\\UWO-Dataanalysis\\libs\\UWO_DataAnalysis\\helper_functions.py:89\u001b[0m, in \u001b[0;36mplot_packages_received_histogram\u001b[1;34m(source_name, start_date, save_directory)\u001b[0m\n\u001b[0;32m     87\u001b[0m dp\u001b[39m=\u001b[39mDataPool()\n\u001b[0;32m     88\u001b[0m \u001b[39m#get all sensor data from the database\u001b[39;00m\n\u001b[1;32m---> 89\u001b[0m all_sensor_data \u001b[39m=\u001b[39m dp\u001b[39m.\u001b[39;49msignal\u001b[39m.\u001b[39;49mget(source_name\u001b[39m=\u001b[39;49msource_name, start\u001b[39m=\u001b[39;49mstart_date, minimal\u001b[39m=\u001b[39;49m\u001b[39mFalse\u001b[39;49;00m, show_query\u001b[39m=\u001b[39;49m\u001b[39mFalse\u001b[39;49;00m, to_dataframe\u001b[39m=\u001b[39;49m\u001b[39mTrue\u001b[39;49;00m)\n\u001b[0;32m     91\u001b[0m \u001b[39m#we are only interested in the sensors actual value\u001b[39;00m\n\u001b[0;32m     92\u001b[0m all_parameters\u001b[39m=\u001b[39mall_sensor_data[\u001b[39m'\u001b[39m\u001b[39mparameter\u001b[39m\u001b[39m'\u001b[39m]\u001b[39m.\u001b[39munique()\n",
      "File \u001b[1;32mc:\\Users\\steineph\\Anaconda3\\envs\\zivi2\\lib\\site-packages\\datapool_client\\core\\abstractions.py:1217\u001b[0m, in \u001b[0;36mSignal.get\u001b[1;34m(self, source_name, site_name, parameter_name, source_type_name, start, end, without_flags, minimal, to_dataframe, show_query)\u001b[0m\n\u001b[0;32m   1214\u001b[0m     query_str \u001b[39m=\u001b[39m dedent(replace_in_query(query_str, to_replace))\n\u001b[0;32m   1215\u001b[0m     columns \u001b[39m=\u001b[39m COLUMN_MAP[\u001b[39m\"\u001b[39m\u001b[39msignal_get_without_quality_and_minimal\u001b[39m\u001b[39m\"\u001b[39m]\n\u001b[1;32m-> 1217\u001b[0m \u001b[39mreturn\u001b[39;00m \u001b[39mself\u001b[39;49m\u001b[39m.\u001b[39;49m_query(query_str, \u001b[39mNone\u001b[39;49;00m, to_dataframe, show_query, \u001b[39mFalse\u001b[39;49;00m, columns)\n",
      "File \u001b[1;32mc:\\Users\\steineph\\Anaconda3\\envs\\zivi2\\lib\\site-packages\\datapool_client\\core\\abstractions.py:110\u001b[0m, in \u001b[0;36mConnector._query\u001b[1;34m(self, query_str, vrs, to_dataframe, show_query, allow_modifications, columns)\u001b[0m\n\u001b[0;32m    107\u001b[0m     \u001b[39mprint\u001b[39m(query_str)\n\u001b[0;32m    109\u001b[0m \u001b[39mif\u001b[39;00m to_dataframe:\n\u001b[1;32m--> 110\u001b[0m     result \u001b[39m=\u001b[39m \u001b[39mself\u001b[39;49m\u001b[39m.\u001b[39;49m__query_dataframe(query_str[:\u001b[39m-\u001b[39;49m\u001b[39m1\u001b[39;49m])\n\u001b[0;32m    111\u001b[0m     \u001b[39mif\u001b[39;00m columns:\n\u001b[0;32m    112\u001b[0m         result\u001b[39m.\u001b[39mcolumns \u001b[39m=\u001b[39m columns\n",
      "File \u001b[1;32mc:\\Users\\steineph\\Anaconda3\\envs\\zivi2\\lib\\site-packages\\datapool_client\\core\\abstractions.py:126\u001b[0m, in \u001b[0;36mConnector.__query_dataframe\u001b[1;34m(self, query)\u001b[0m\n\u001b[0;32m    122\u001b[0m \u001b[39mwith\u001b[39;00m _TemporaryFile() \u001b[39mas\u001b[39;00m tmpfile:\n\u001b[0;32m    123\u001b[0m     copy_sql \u001b[39m=\u001b[39m \u001b[39m\"\u001b[39m\u001b[39mCOPY (\u001b[39m\u001b[39m{query}\u001b[39;00m\u001b[39m) TO STDOUT WITH CSV \u001b[39m\u001b[39m{head}\u001b[39;00m\u001b[39m\"\u001b[39m\u001b[39m.\u001b[39mformat(\n\u001b[0;32m    124\u001b[0m         query\u001b[39m=\u001b[39mquery, head\u001b[39m=\u001b[39m\u001b[39m\"\u001b[39m\u001b[39mHEADER\u001b[39m\u001b[39m\"\u001b[39m\n\u001b[0;32m    125\u001b[0m     )\n\u001b[1;32m--> 126\u001b[0m     \u001b[39mself\u001b[39;49m\u001b[39m.\u001b[39;49m_cur\u001b[39m.\u001b[39;49mcopy_expert(copy_sql, tmpfile)\n\u001b[0;32m    127\u001b[0m     tmpfile\u001b[39m.\u001b[39mseek(\u001b[39m0\u001b[39m)\n\u001b[0;32m    128\u001b[0m     \u001b[39mreturn\u001b[39;00m _read_csv(tmpfile, parse_dates\u001b[39m=\u001b[39m\u001b[39mTrue\u001b[39;00m)\n",
      "File \u001b[1;32mc:\\Users\\steineph\\Anaconda3\\envs\\zivi2\\lib\\tempfile.py:481\u001b[0m, in \u001b[0;36m_TemporaryFileWrapper.__getattr__.<locals>.func_wrapper\u001b[1;34m(*args, **kwargs)\u001b[0m\n\u001b[0;32m    479\u001b[0m \u001b[39mif\u001b[39;00m \u001b[39mhasattr\u001b[39m(a, \u001b[39m'\u001b[39m\u001b[39m__call__\u001b[39m\u001b[39m'\u001b[39m):\n\u001b[0;32m    480\u001b[0m     func \u001b[39m=\u001b[39m a\n\u001b[1;32m--> 481\u001b[0m     \u001b[39m@_functools\u001b[39m\u001b[39m.\u001b[39mwraps(func)\n\u001b[0;32m    482\u001b[0m     \u001b[39mdef\u001b[39;00m \u001b[39mfunc_wrapper\u001b[39m(\u001b[39m*\u001b[39margs, \u001b[39m*\u001b[39m\u001b[39m*\u001b[39mkwargs):\n\u001b[0;32m    483\u001b[0m         \u001b[39mreturn\u001b[39;00m func(\u001b[39m*\u001b[39margs, \u001b[39m*\u001b[39m\u001b[39m*\u001b[39mkwargs)\n\u001b[0;32m    484\u001b[0m     \u001b[39m# Avoid closing the file as long as the wrapper is alive,\u001b[39;00m\n\u001b[0;32m    485\u001b[0m     \u001b[39m# see issue #18879.\u001b[39;00m\n",
      "\u001b[1;31mKeyboardInterrupt\u001b[0m: "
     ]
    }
   ],
   "source": [
    "%matplotlib inline\n",
    "dp=DataPool()\n",
    "for source in tqdm(dp.source.all()['name']):\n",
    "    try:\n",
    "        plot_data=helper_functions.plot_packages_received_histogram(source_name=source, start_date='2016-01-01', save_directory=r'C:\\Users\\steineph\\switchdrive\\Private\\Datenanalyse_test')\n",
    "    except Exception as e:\n",
    "        print(e)\n",
    "\n"
   ]
  },
  {
   "cell_type": "code",
   "execution_count": 1,
   "metadata": {},
   "outputs": [
    {
     "ename": "NameError",
     "evalue": "name 'DataPool' is not defined",
     "output_type": "error",
     "traceback": [
      "\u001b[1;31m---------------------------------------------------------------------------\u001b[0m",
      "\u001b[1;31mNameError\u001b[0m                                 Traceback (most recent call last)",
      "\u001b[1;32mc:\\Users\\steineph\\DataAnalysis\\UWO-Dataanalysis\\main.ipynb Zelle 3\u001b[0m in \u001b[0;36m<cell line: 2>\u001b[1;34m()\u001b[0m\n\u001b[0;32m      <a href='vscode-notebook-cell:/c%3A/Users/steineph/DataAnalysis/UWO-Dataanalysis/main.ipynb#X20sZmlsZQ%3D%3D?line=0'>1</a>\u001b[0m get_ipython()\u001b[39m.\u001b[39mrun_line_magic(\u001b[39m'\u001b[39m\u001b[39mmatplotlib\u001b[39m\u001b[39m'\u001b[39m, \u001b[39m'\u001b[39m\u001b[39minline\u001b[39m\u001b[39m'\u001b[39m)\n\u001b[1;32m----> <a href='vscode-notebook-cell:/c%3A/Users/steineph/DataAnalysis/UWO-Dataanalysis/main.ipynb#X20sZmlsZQ%3D%3D?line=1'>2</a>\u001b[0m dp\u001b[39m=\u001b[39mDataPool()\n\u001b[0;32m      <a href='vscode-notebook-cell:/c%3A/Users/steineph/DataAnalysis/UWO-Dataanalysis/main.ipynb#X20sZmlsZQ%3D%3D?line=2'>3</a>\u001b[0m \u001b[39mfor\u001b[39;00m source \u001b[39min\u001b[39;00m tqdm(dp\u001b[39m.\u001b[39msource\u001b[39m.\u001b[39mall()[\u001b[39m'\u001b[39m\u001b[39mname\u001b[39m\u001b[39m'\u001b[39m]):\n\u001b[0;32m      <a href='vscode-notebook-cell:/c%3A/Users/steineph/DataAnalysis/UWO-Dataanalysis/main.ipynb#X20sZmlsZQ%3D%3D?line=3'>4</a>\u001b[0m     \u001b[39mtry\u001b[39;00m:\n",
      "\u001b[1;31mNameError\u001b[0m: name 'DataPool' is not defined"
     ]
    }
   ],
   "source": [
    "%matplotlib inline\n",
    "dp=DataPool()\n",
    "for source in tqdm(dp.source.all()['name']):\n",
    "    try:\n",
    "        helper_functions.plot_timeseries(source_name=source, start_date='2016-01-01', save_directory=r'C:\\Users\\steineph\\switchdrive\\Private\\Datenanalyse_test')\n",
    "    except Exception as e:\n",
    "        print(e)\n"
   ]
  },
  {
   "cell_type": "code",
   "execution_count": 3,
   "metadata": {},
   "outputs": [
    {
     "name": "stdout",
     "output_type": "stream",
     "text": [
      "You are successfully connected to the database!\n"
     ]
    },
    {
     "data": {
      "application/vnd.jupyter.widget-view+json": {
       "model_id": "aac22c38a2294e3389f7ff2403ff7743",
       "version_major": 2,
       "version_minor": 0
      },
      "text/plain": [
       "  0%|          | 0/163 [00:00<?, ?it/s]"
      ]
     },
     "metadata": {},
     "output_type": "display_data"
    },
    {
     "name": "stdout",
     "output_type": "stream",
     "text": [
      "You are successfully connected to the database!\n",
      "You are successfully connected to the database!\n",
      "You are successfully connected to the database!\n",
      "You are successfully connected to the database!\n"
     ]
    },
    {
     "name": "stderr",
     "output_type": "stream",
     "text": [
      "C:\\Users\\steineph\\DataAnalysis\\UWO-Dataanalysis\\libs\\UWO_DataAnalysis\\helper_functions.py:27: RuntimeWarning:\n",
      "\n",
      "divide by zero encountered in double_scalars\n",
      "\n"
     ]
    },
    {
     "name": "stdout",
     "output_type": "stream",
     "text": [
      "You are successfully connected to the database!\n",
      "You are successfully connected to the database!\n"
     ]
    },
    {
     "name": "stderr",
     "output_type": "stream",
     "text": [
      "C:\\Users\\steineph\\DataAnalysis\\UWO-Dataanalysis\\libs\\UWO_DataAnalysis\\helper_functions.py:27: RuntimeWarning:\n",
      "\n",
      "divide by zero encountered in double_scalars\n",
      "\n",
      "C:\\Users\\steineph\\DataAnalysis\\UWO-Dataanalysis\\libs\\UWO_DataAnalysis\\helper_functions.py:27: RuntimeWarning:\n",
      "\n",
      "invalid value encountered in double_scalars\n",
      "\n"
     ]
    },
    {
     "name": "stdout",
     "output_type": "stream",
     "text": [
      "You are successfully connected to the database!\n",
      "You are successfully connected to the database!\n"
     ]
    },
    {
     "name": "stderr",
     "output_type": "stream",
     "text": [
      "C:\\Users\\steineph\\DataAnalysis\\UWO-Dataanalysis\\libs\\UWO_DataAnalysis\\helper_functions.py:27: RuntimeWarning:\n",
      "\n",
      "divide by zero encountered in double_scalars\n",
      "\n",
      "C:\\Users\\steineph\\DataAnalysis\\UWO-Dataanalysis\\libs\\UWO_DataAnalysis\\helper_functions.py:27: RuntimeWarning:\n",
      "\n",
      "invalid value encountered in double_scalars\n",
      "\n"
     ]
    },
    {
     "name": "stdout",
     "output_type": "stream",
     "text": [
      "You are successfully connected to the database!\n",
      "You are successfully connected to the database!\n"
     ]
    },
    {
     "name": "stderr",
     "output_type": "stream",
     "text": [
      "C:\\Users\\steineph\\DataAnalysis\\UWO-Dataanalysis\\libs\\UWO_DataAnalysis\\helper_functions.py:27: RuntimeWarning:\n",
      "\n",
      "divide by zero encountered in double_scalars\n",
      "\n",
      "C:\\Users\\steineph\\DataAnalysis\\UWO-Dataanalysis\\libs\\UWO_DataAnalysis\\helper_functions.py:27: RuntimeWarning:\n",
      "\n",
      "invalid value encountered in double_scalars\n",
      "\n"
     ]
    },
    {
     "name": "stdout",
     "output_type": "stream",
     "text": [
      "You are successfully connected to the database!\n",
      "You are successfully connected to the database!\n",
      "You are successfully connected to the database!\n",
      "You are successfully connected to the database!\n",
      "You are successfully connected to the database!\n",
      "You are successfully connected to the database!\n",
      "You are successfully connected to the database!\n",
      "You are successfully connected to the database!\n"
     ]
    },
    {
     "name": "stderr",
     "output_type": "stream",
     "text": [
      "C:\\Users\\steineph\\DataAnalysis\\UWO-Dataanalysis\\libs\\UWO_DataAnalysis\\helper_functions.py:27: RuntimeWarning:\n",
      "\n",
      "invalid value encountered in double_scalars\n",
      "\n"
     ]
    },
    {
     "name": "stdout",
     "output_type": "stream",
     "text": [
      "You are successfully connected to the database!\n",
      "You are successfully connected to the database!\n"
     ]
    },
    {
     "name": "stderr",
     "output_type": "stream",
     "text": [
      "C:\\Users\\steineph\\DataAnalysis\\UWO-Dataanalysis\\libs\\UWO_DataAnalysis\\helper_functions.py:27: RuntimeWarning:\n",
      "\n",
      "divide by zero encountered in double_scalars\n",
      "\n",
      "C:\\Users\\steineph\\DataAnalysis\\UWO-Dataanalysis\\libs\\UWO_DataAnalysis\\helper_functions.py:27: RuntimeWarning:\n",
      "\n",
      "invalid value encountered in double_scalars\n",
      "\n"
     ]
    },
    {
     "name": "stdout",
     "output_type": "stream",
     "text": [
      "You are successfully connected to the database!\n",
      "You are successfully connected to the database!\n",
      "You are successfully connected to the database!\n",
      "You are successfully connected to the database!\n",
      "You are successfully connected to the database!\n",
      "You are successfully connected to the database!\n",
      "You are successfully connected to the database!\n",
      "You are successfully connected to the database!\n",
      "You are successfully connected to the database!\n"
     ]
    },
    {
     "ename": "KeyboardInterrupt",
     "evalue": "",
     "output_type": "error",
     "traceback": [
      "\u001b[1;31m---------------------------------------------------------------------------\u001b[0m",
      "\u001b[1;31mKeyboardInterrupt\u001b[0m                         Traceback (most recent call last)",
      "\u001b[1;32mc:\\Users\\steineph\\DataAnalysis\\UWO-Dataanalysis\\main.ipynb Zelle 4\u001b[0m in \u001b[0;36m<cell line: 4>\u001b[1;34m()\u001b[0m\n\u001b[0;32m     <a href='vscode-notebook-cell:/c%3A/Users/steineph/DataAnalysis/UWO-Dataanalysis/main.ipynb#X21sZmlsZQ%3D%3D?line=15'>16</a>\u001b[0m grouped_data2\u001b[39m=\u001b[39mhelper_functions\u001b[39m.\u001b[39mcalculate_PSR(source_name\u001b[39m=\u001b[39msource, start_date\u001b[39m=\u001b[39m\u001b[39m\"\u001b[39m\u001b[39m2016-01-01\u001b[39m\u001b[39m\"\u001b[39m, resolution\u001b[39m=\u001b[39m\u001b[39m'\u001b[39m\u001b[39mM\u001b[39m\u001b[39m'\u001b[39m, allow_higher_samplingrates\u001b[39m=\u001b[39m\u001b[39mFalse\u001b[39;00m)\n\u001b[0;32m     <a href='vscode-notebook-cell:/c%3A/Users/steineph/DataAnalysis/UWO-Dataanalysis/main.ipynb#X21sZmlsZQ%3D%3D?line=16'>17</a>\u001b[0m grouped_data3\u001b[39m=\u001b[39mhelper_functions\u001b[39m.\u001b[39mcalculate_PSR(source_name\u001b[39m=\u001b[39msource, start_date\u001b[39m=\u001b[39m\u001b[39m\"\u001b[39m\u001b[39m2016-01-01\u001b[39m\u001b[39m\"\u001b[39m, resolution\u001b[39m=\u001b[39m\u001b[39m'\u001b[39m\u001b[39mW\u001b[39m\u001b[39m'\u001b[39m, allow_higher_samplingrates\u001b[39m=\u001b[39m\u001b[39mFalse\u001b[39;00m)\n\u001b[1;32m---> <a href='vscode-notebook-cell:/c%3A/Users/steineph/DataAnalysis/UWO-Dataanalysis/main.ipynb#X21sZmlsZQ%3D%3D?line=17'>18</a>\u001b[0m grouped_data4\u001b[39m=\u001b[39mhelper_functions\u001b[39m.\u001b[39;49mcalculate_PSR(source_name\u001b[39m=\u001b[39;49msource, start_date\u001b[39m=\u001b[39;49m\u001b[39m\"\u001b[39;49m\u001b[39m2016-01-01\u001b[39;49m\u001b[39m\"\u001b[39;49m, resolution\u001b[39m=\u001b[39;49m\u001b[39m'\u001b[39;49m\u001b[39mD\u001b[39;49m\u001b[39m'\u001b[39;49m, allow_higher_samplingrates\u001b[39m=\u001b[39;49m\u001b[39mFalse\u001b[39;49;00m)\n\u001b[0;32m     <a href='vscode-notebook-cell:/c%3A/Users/steineph/DataAnalysis/UWO-Dataanalysis/main.ipynb#X21sZmlsZQ%3D%3D?line=19'>20</a>\u001b[0m grouped_data_long0\u001b[39m=\u001b[39mpd\u001b[39m.\u001b[39mpivot(grouped_data0, index\u001b[39m=\u001b[39m\u001b[39m'\u001b[39m\u001b[39msensor\u001b[39m\u001b[39m'\u001b[39m, columns\u001b[39m=\u001b[39m\u001b[39m'\u001b[39m\u001b[39mtimestamp\u001b[39m\u001b[39m'\u001b[39m, values\u001b[39m=\u001b[39m\u001b[39m'\u001b[39m\u001b[39mnormalized_count\u001b[39m\u001b[39m'\u001b[39m)\n\u001b[0;32m     <a href='vscode-notebook-cell:/c%3A/Users/steineph/DataAnalysis/UWO-Dataanalysis/main.ipynb#X21sZmlsZQ%3D%3D?line=20'>21</a>\u001b[0m grouped_data_long1\u001b[39m=\u001b[39mpd\u001b[39m.\u001b[39mpivot(grouped_data1, index\u001b[39m=\u001b[39m\u001b[39m'\u001b[39m\u001b[39msensor\u001b[39m\u001b[39m'\u001b[39m, columns\u001b[39m=\u001b[39m\u001b[39m'\u001b[39m\u001b[39mtimestamp\u001b[39m\u001b[39m'\u001b[39m, values\u001b[39m=\u001b[39m\u001b[39m'\u001b[39m\u001b[39mnormalized_count\u001b[39m\u001b[39m'\u001b[39m)\n",
      "File \u001b[1;32m~\\DataAnalysis\\UWO-Dataanalysis\\libs\\UWO_DataAnalysis\\helper_functions.py:191\u001b[0m, in \u001b[0;36mcalculate_PSR\u001b[1;34m(source_name, start_date, resolution, allow_higher_samplingrates, thresh_drop_values)\u001b[0m\n\u001b[0;32m    189\u001b[0m dp\u001b[39m=\u001b[39mDataPool()\n\u001b[0;32m    190\u001b[0m \u001b[39m#get all sensor data from the database\u001b[39;00m\n\u001b[1;32m--> 191\u001b[0m all_sensor_data \u001b[39m=\u001b[39m dp\u001b[39m.\u001b[39;49msignal\u001b[39m.\u001b[39;49mget(source_name\u001b[39m=\u001b[39;49msource_name, start\u001b[39m=\u001b[39;49mstart_date, minimal\u001b[39m=\u001b[39;49m\u001b[39mFalse\u001b[39;49;00m, show_query\u001b[39m=\u001b[39;49m\u001b[39mFalse\u001b[39;49;00m, to_dataframe\u001b[39m=\u001b[39;49m\u001b[39mTrue\u001b[39;49;00m)\n\u001b[0;32m    193\u001b[0m \u001b[39m#we are only interested in the sensors actual value\u001b[39;00m\n\u001b[0;32m    194\u001b[0m all_parameters\u001b[39m=\u001b[39mall_sensor_data[\u001b[39m'\u001b[39m\u001b[39mparameter\u001b[39m\u001b[39m'\u001b[39m]\u001b[39m.\u001b[39munique()\n",
      "File \u001b[1;32mc:\\Users\\steineph\\Anaconda3\\envs\\zivi2\\lib\\site-packages\\datapool_client\\core\\abstractions.py:1217\u001b[0m, in \u001b[0;36mSignal.get\u001b[1;34m(self, source_name, site_name, parameter_name, source_type_name, start, end, without_flags, minimal, to_dataframe, show_query)\u001b[0m\n\u001b[0;32m   1214\u001b[0m     query_str \u001b[39m=\u001b[39m dedent(replace_in_query(query_str, to_replace))\n\u001b[0;32m   1215\u001b[0m     columns \u001b[39m=\u001b[39m COLUMN_MAP[\u001b[39m\"\u001b[39m\u001b[39msignal_get_without_quality_and_minimal\u001b[39m\u001b[39m\"\u001b[39m]\n\u001b[1;32m-> 1217\u001b[0m \u001b[39mreturn\u001b[39;00m \u001b[39mself\u001b[39;49m\u001b[39m.\u001b[39;49m_query(query_str, \u001b[39mNone\u001b[39;49;00m, to_dataframe, show_query, \u001b[39mFalse\u001b[39;49;00m, columns)\n",
      "File \u001b[1;32mc:\\Users\\steineph\\Anaconda3\\envs\\zivi2\\lib\\site-packages\\datapool_client\\core\\abstractions.py:110\u001b[0m, in \u001b[0;36mConnector._query\u001b[1;34m(self, query_str, vrs, to_dataframe, show_query, allow_modifications, columns)\u001b[0m\n\u001b[0;32m    107\u001b[0m     \u001b[39mprint\u001b[39m(query_str)\n\u001b[0;32m    109\u001b[0m \u001b[39mif\u001b[39;00m to_dataframe:\n\u001b[1;32m--> 110\u001b[0m     result \u001b[39m=\u001b[39m \u001b[39mself\u001b[39;49m\u001b[39m.\u001b[39;49m__query_dataframe(query_str[:\u001b[39m-\u001b[39;49m\u001b[39m1\u001b[39;49m])\n\u001b[0;32m    111\u001b[0m     \u001b[39mif\u001b[39;00m columns:\n\u001b[0;32m    112\u001b[0m         result\u001b[39m.\u001b[39mcolumns \u001b[39m=\u001b[39m columns\n",
      "File \u001b[1;32mc:\\Users\\steineph\\Anaconda3\\envs\\zivi2\\lib\\site-packages\\datapool_client\\core\\abstractions.py:126\u001b[0m, in \u001b[0;36mConnector.__query_dataframe\u001b[1;34m(self, query)\u001b[0m\n\u001b[0;32m    122\u001b[0m \u001b[39mwith\u001b[39;00m _TemporaryFile() \u001b[39mas\u001b[39;00m tmpfile:\n\u001b[0;32m    123\u001b[0m     copy_sql \u001b[39m=\u001b[39m \u001b[39m\"\u001b[39m\u001b[39mCOPY (\u001b[39m\u001b[39m{query}\u001b[39;00m\u001b[39m) TO STDOUT WITH CSV \u001b[39m\u001b[39m{head}\u001b[39;00m\u001b[39m\"\u001b[39m\u001b[39m.\u001b[39mformat(\n\u001b[0;32m    124\u001b[0m         query\u001b[39m=\u001b[39mquery, head\u001b[39m=\u001b[39m\u001b[39m\"\u001b[39m\u001b[39mHEADER\u001b[39m\u001b[39m\"\u001b[39m\n\u001b[0;32m    125\u001b[0m     )\n\u001b[1;32m--> 126\u001b[0m     \u001b[39mself\u001b[39;49m\u001b[39m.\u001b[39;49m_cur\u001b[39m.\u001b[39;49mcopy_expert(copy_sql, tmpfile)\n\u001b[0;32m    127\u001b[0m     tmpfile\u001b[39m.\u001b[39mseek(\u001b[39m0\u001b[39m)\n\u001b[0;32m    128\u001b[0m     \u001b[39mreturn\u001b[39;00m _read_csv(tmpfile, parse_dates\u001b[39m=\u001b[39m\u001b[39mTrue\u001b[39;00m)\n",
      "File \u001b[1;32mc:\\Users\\steineph\\Anaconda3\\envs\\zivi2\\lib\\encodings\\utf_8.py:15\u001b[0m, in \u001b[0;36mdecode\u001b[1;34m(input, errors)\u001b[0m\n\u001b[0;32m     11\u001b[0m \u001b[39m### Codec APIs\u001b[39;00m\n\u001b[0;32m     13\u001b[0m encode \u001b[39m=\u001b[39m codecs\u001b[39m.\u001b[39mutf_8_encode\n\u001b[1;32m---> 15\u001b[0m \u001b[39mdef\u001b[39;00m \u001b[39mdecode\u001b[39m(\u001b[39minput\u001b[39m, errors\u001b[39m=\u001b[39m\u001b[39m'\u001b[39m\u001b[39mstrict\u001b[39m\u001b[39m'\u001b[39m):\n\u001b[0;32m     16\u001b[0m     \u001b[39mreturn\u001b[39;00m codecs\u001b[39m.\u001b[39mutf_8_decode(\u001b[39minput\u001b[39m, errors, \u001b[39mTrue\u001b[39;00m)\n\u001b[0;32m     18\u001b[0m \u001b[39mclass\u001b[39;00m \u001b[39mIncrementalEncoder\u001b[39;00m(codecs\u001b[39m.\u001b[39mIncrementalEncoder):\n",
      "\u001b[1;31mKeyboardInterrupt\u001b[0m: "
     ]
    },
    {
     "data": {
      "image/png": "[encoded data removed]",
      "text/plain": [
       "<Figure size 720x360 with 6 Axes>"
      ]
     },
     "metadata": {
      "needs_background": "light"
     },
     "output_type": "display_data"
    }
   ],
   "source": [
    "dp=DataPool()\n",
    "df_all=pd.DataFrame()\n",
    "\n",
    "for source in tqdm(list(dp.source.all()['name'])):\n",
    "    savepath=r'C:\\Users\\steineph\\switchdrive\\Private\\Datenanalyse_test\\PSR\\{}'.format(source.split('_')[0])\n",
    "    if not os.path.exists(savepath):\n",
    "        os.makedirs(savepath)\n",
    "\n",
    "    if ((source+'.png') not in os.listdir(savepath)) and (source != 'bt_dl942_11_veloweg_sd'):\n",
    "        fig, ax = plt.subplots(5, sharey=True, figsize=(10, 5))\n",
    "        fig.suptitle(\"{}\".format(source), fontsize=\"x-large\")\n",
    "        cbar_ax = fig.add_axes([.91, .3, .03, .4])\n",
    "\n",
    "        grouped_data0=helper_functions.calculate_PSR(source_name=source, start_date=\"2016-01-01\", resolution='Y', allow_higher_samplingrates=False)\n",
    "        grouped_data1=helper_functions.calculate_PSR(source_name=source, start_date=\"2016-01-01\", resolution='Q',allow_higher_samplingrates=False)\n",
    "        grouped_data2=helper_functions.calculate_PSR(source_name=source, start_date=\"2016-01-01\", resolution='M', allow_higher_samplingrates=False)\n",
    "        grouped_data3=helper_functions.calculate_PSR(source_name=source, start_date=\"2016-01-01\", resolution='W', allow_higher_samplingrates=False)\n",
    "        grouped_data4=helper_functions.calculate_PSR(source_name=source, start_date=\"2016-01-01\", resolution='D', allow_higher_samplingrates=False)\n",
    "\n",
    "        grouped_data_long0=pd.pivot(grouped_data0, index='sensor', columns='timestamp', values='normalized_count')\n",
    "        grouped_data_long1=pd.pivot(grouped_data1, index='sensor', columns='timestamp', values='normalized_count')\n",
    "        grouped_data_long2=pd.pivot(grouped_data2, index='sensor', columns='timestamp', values='normalized_count')\n",
    "        grouped_data_long3=pd.pivot(grouped_data3, index='sensor', columns='timestamp', values='normalized_count')\n",
    "        grouped_data_long4=pd.pivot(grouped_data4, index='sensor', columns='timestamp', values='normalized_count')\n",
    "\n",
    "        sns.heatmap(data=grouped_data_long0, annot=True, cmap='RdYlGn', vmin=0, vmax=1, ax=ax[0], cbar_ax=cbar_ax)\n",
    "        sns.heatmap(data=grouped_data_long1, annot=True, cmap='RdYlGn', vmin=0, vmax=1, ax=ax[1], cbar_ax=cbar_ax)\n",
    "        sns.heatmap(data=grouped_data_long2, annot=False, cmap='RdYlGn', vmin=0, vmax=1, ax=ax[2], cbar_ax=cbar_ax)\n",
    "        sns.heatmap(data=grouped_data_long3, cmap='RdYlGn', vmin=0, vmax=1, ax=ax[3], cbar_ax=cbar_ax)\n",
    "        sns.heatmap(data=grouped_data_long4, cmap='RdYlGn', vmin=0, vmax=1, ax=ax[4], cbar_ax=cbar_ax)\n",
    "\n",
    "        ax[4].set_xticklabels([pd.to_datetime(t.get_text()).strftime('%D') for t in ax[4].get_xticklabels()]);\n",
    "        ax[0].get_xaxis().set_visible(False)\n",
    "        ax[1].get_xaxis().set_visible(False)\n",
    "        ax[2].get_xaxis().set_visible(False)\n",
    "        ax[3].get_xaxis().set_visible(False)\n",
    "        \n",
    "        #ax[0].get_yaxis().set_visible(False)\n",
    "        #ax[1].get_yaxis().set_visible(False)\n",
    "        #ax[2].get_yaxis().set_visible(False)\n",
    "        #ax[3].get_yaxis().set_visible(False)\n",
    "        #ax[4].get_yaxis().set_visible(False)\n",
    "\n",
    "        ax[0].set_yticklabels([]) \n",
    "        ax[1].set_yticklabels([]) \n",
    "        ax[2].set_yticklabels([]) \n",
    "        ax[3].set_yticklabels([]) \n",
    "        ax[4].set_yticklabels([]) \n",
    "\n",
    "        ax[0].tick_params(left=False)\n",
    "        ax[1].tick_params(left=False)\n",
    "        ax[2].tick_params(left=False)\n",
    "        ax[3].tick_params(left=False)\n",
    "        ax[4].tick_params(left=False)\n",
    "\n",
    "        ax[0].set_ylabel('Yearly')\n",
    "        ax[1].set_ylabel('Quartaly')\n",
    "        ax[2].set_ylabel('Monthly')\n",
    "        ax[3].set_ylabel('Weekly')\n",
    "        ax[4].set_ylabel('Daily')\n",
    "\n",
    "        fig.savefig(os.path.join(savepath, '{}.png'.format(source)), dpi=1000, bbox_inches='tight')\n",
    "        plt.close('all')\n",
    "    else:\n",
    "        continue\n",
    "\n"
   ]
  },
  {
   "cell_type": "code",
   "execution_count": 163,
   "metadata": {},
   "outputs": [
    {
     "data": {
      "text/plain": [
       "['bt_dl953_11e_russikerstr',\n",
       " 'bl_dl9449_15a_russikerstr',\n",
       " 'bf_f13_3r_rub_morg_overflow',\n",
       " 'bf_plsRKBM1101_3r_rub_morg_overflow',\n",
       " 'bt_dl912_rw137_schutzengasse',\n",
       " 'bt_dl917_162_luppmenweg',\n",
       " 'bt_dl954_rw137_schutzengasse',\n",
       " 'bm_dl329_rub128basin_usterstr',\n",
       " 'bm_dl290_rubbasin_ara',\n",
       " 'bl_dl320_597sbw_ara',\n",
       " 'bl_dl321_48sbw_notuberlauf',\n",
       " 'bl_dl322_rub128inflow_usterstr',\n",
       " 'bl_dl323_rub128basin_usterstr',\n",
       " 'bl_dl324_137_schutzengasse',\n",
       " 'bf_f08_166_luppmenweg',\n",
       " 'bf_f04_23_bahnhofstr',\n",
       " 'bf_f06_11e_russikerstr',\n",
       " 'bf_f10_22a_bahnhofstr',\n",
       " 'bf_f11_7_kempttalstr',\n",
       " 'bl_dl899_inflow_ara',\n",
       " 'bn_r02_school_chatzenrainstr',\n",
       " 'bn_r04_airport_speck',\n",
       " 'bt_dl916_inflow_ara',\n",
       " 'bt_dl923_166_luppmenweg',\n",
       " 'bt_dl922_166_luppmenweg',\n",
       " 'bt_dl924_137_schutzengasse',\n",
       " 'bt_dl925_581a_wildbach',\n",
       " 'bt_dl925_581a_wildbach_sd',\n",
       " 'bt_dl926_rubmorg_inflow',\n",
       " 'bt_dl927_164_luppmenweg',\n",
       " 'bt_dl928_164_luppmenweg',\n",
       " 'bt_dl930_40d_imberg',\n",
       " 'bt_dl929_164_luppmenweg',\n",
       " 'bt_dl931_vs22_kempttalstr',\n",
       " 'bt_dl932_rub128inflow_usterstr',\n",
       " 'bt_dl933_11e_russikerstr',\n",
       " 'bt_dl934_47a_zurcherstr',\n",
       " 'bt_dl934_47a_zurcherstr_sd',\n",
       " 'bt_dl935_15a_russikerstr',\n",
       " 'bt_dl937_58sbw_undermulistr',\n",
       " 'bt_dl936_7_kempttalstr',\n",
       " 'bt_dl937_58sbw_undermulistr_sd',\n",
       " 'bt_dl938_124a_chueferi',\n",
       " 'bt_dl939_11h_veloweg',\n",
       " 'bt_dl940_rw137_schutzengasse',\n",
       " 'bt_dl941_585sbw_wildbach',\n",
       " 'bt_dl942_11_veloweg_sd',\n",
       " 'bt_dl944_597sbw_ara',\n",
       " 'bt_dl943_sk102_wermatswilstr',\n",
       " 'bt_dl945_156a_geerenstr',\n",
       " 'bt_dl946_555_mesikerstr',\n",
       " 'bt_dl947_166_luppmenweg',\n",
       " 'bt_dl948_rub128inflow_usterstr',\n",
       " 'bt_dl949_rw22a_bahnhofstr',\n",
       " 'bx_ws700_ara_flatroof',\n",
       " 'bl_dl325_585sbw_amwildbach',\n",
       " 'bl_dl900_156a_geerenstr',\n",
       " 'bn_dl798_electrosuisse_luppmenstr',\n",
       " 'bt_uit01_t3_rumpisweg',\n",
       " 'bt_uit01_t4_rumpisweg',\n",
       " 'bt_uit01_t5_rumpisweg',\n",
       " 'bt_uit01_t6_rumpisweg',\n",
       " 'bt_dl951_rw47a_zurcherstr',\n",
       " 'bt_dl955_594_undermulistr',\n",
       " 'bt_dl958_166_luppmenweg',\n",
       " 'bm_dl291_rubbasin_ara',\n",
       " 'bn_dl259_rub_morg',\n",
       " 'bm_dl328_sk_ara',\n",
       " 'bm_dl331_58sbw_undermulistr',\n",
       " 'bm_dl330_rub128inflow_usterstr',\n",
       " 'bm_dl331_ra40a_sbwvoland',\n",
       " 'bm_dl332_rub_morg',\n",
       " 'bm_dl333_vs22_kempttalstr',\n",
       " 'bm_dl892_58sbw_undermulistr',\n",
       " 'bm_lm067_ra40a_sbwvoland',\n",
       " 'bm_lm079_rubpw80sbwbasin_industry',\n",
       " 'bm_lm085_rubpw80sbwbasin_industry',\n",
       " 'bf_f01_806_industry',\n",
       " 'bf_f02_555_mesikerstr',\n",
       " 'bf_f03_11e_russikerstr',\n",
       " 'bf_f05_7_kempttalstr',\n",
       " 'bf_f09_11e_russikerstr',\n",
       " 'bp_dl326_wildbach_kempttalstr',\n",
       " 'bp_dl327_luppmen_usterstr',\n",
       " 'bx_ws702_rub_morg',\n",
       " 'bq_lpicm4_594_undermulistr',\n",
       " 'bq_lpicm5_rub128_schieber',\n",
       " 'bl_ce001_vs22_kempttalstr',\n",
       " 'bl_ce002_603_feldstr',\n",
       " 'bl_ce0bd_15a_russikerstr',\n",
       " 'bl_ce193_527_mandliwisstrasse',\n",
       " 'bl_ce193_7_kempttalstr',\n",
       " 'bl_ce463_vs22_kempttalstr',\n",
       " 'bl_ce465_rohrbach_fehraltorferstr',\n",
       " 'bl_ce5c_452_fallibach',\n",
       " 'bl_ce5ce_450b_usterstr',\n",
       " 'bl_ce769_rubpw80sbw_industry',\n",
       " 'bl_ceaf0_rub_morg',\n",
       " 'bl_ceb5f_58sbw_undermulistr',\n",
       " 'bl_ceb60_138a_venturi',\n",
       " 'bl_lm064_rubpw80sbwbasin_industry',\n",
       " 'bl_lm065_7_kempttalstr',\n",
       " 'bl_lm069_ra40a_sbwvoland',\n",
       " 'bl_lm073_607sbw_kempttalerstr',\n",
       " 'bl_lm076_rohrbach_fehraltorferstr',\n",
       " 'bl_lm077_603_feldstr',\n",
       " 'bl_lm078_581a_wildbach',\n",
       " 'bl_lm087_603_feldstr',\n",
       " 'bl_dl258_rubbasin_ara',\n",
       " 'bl_dl257_inflow_ara',\n",
       " 'bl_dl311_rubmorg_inflow',\n",
       " 'bl_dl312_40d_imberg',\n",
       " 'bl_dl313_124a_chueferi',\n",
       " 'bl_dl313_560RW_Zelgli',\n",
       " 'bl_dl318_524aRW_Hinterwisstrasse',\n",
       " 'bl_dl318_597sbw_ara',\n",
       " 'bl_dl893_585sbw_amwildbach',\n",
       " 'bl_dl256_rubbasin_ara',\n",
       " 'bl_dl309_sk102_wermatswilstr',\n",
       " 'bl_dl310_sk_ara',\n",
       " 'bl_dl312_581a_wildbach',\n",
       " 'bl_dl314_50sbw_acherm',\n",
       " 'bl_dl315_40d_imberg',\n",
       " 'bl_dl316_40g_csovoland',\n",
       " 'bl_dl318_ra40a_sbwvoland',\n",
       " 'bl_dl317_115a_chueferistr',\n",
       " 'bl_dl319_wildbach_rumlikonstr',\n",
       " 'bn_r03_rub_morg',\n",
       " 'bn_r05_schutzenhaus_burgweg',\n",
       " 'bf_plsABL1101_outflow_ara',\n",
       " 'bf_plsRKBU1101_rub128basin_usterstr',\n",
       " 'bl_plsRFBA1201_sk_ara',\n",
       " 'bl_plsRKBA1201_rubbasin_ara',\n",
       " 'bl_plsRKBM1201_rubmorg_inflow',\n",
       " 'bl_plsRKBM1203_rub_morg',\n",
       " 'bl_plsRKBU1201_rub128basin_usterstr',\n",
       " 'bl_plsRKPI1201_rubpw80sbw_industry',\n",
       " 'bl_plsZUH1201_inflow_ara',\n",
       " 'bn_plsALG1801E_ara_flatroof',\n",
       " 'bq_plsABL3701_outflow_ara',\n",
       " 'bq_plsZUL3201_inflow_ara',\n",
       " 'bt_plsABL1301_outflow_ara',\n",
       " 'bx_ce792_450a_usterstr',\n",
       " 'bt_plsZUL1311_inflow_ara',\n",
       " 'bn_dl797_rub_morg',\n",
       " 'bn_dl799_ara_flatroof',\n",
       " 'bn_dl800_pumpwau_rumlikerstr',\n",
       " 'bn_dl801_pumpwgeeren_geerenstr',\n",
       " 'bn_dl802_gerber_zurcherstr',\n",
       " 'bn_dl803_coop_grundstr',\n",
       " 'bt_dl906_pumpwgeeren_geerenstr',\n",
       " 'bt_dl907_rub_morg',\n",
       " 'bt_dl4184_15a_russikerstr',\n",
       " 'bt_dl4184_inflow_ara',\n",
       " 'bt_dl4185_voland_unterdorf',\n",
       " 'bt_dl4186_22a_bahnhofstr',\n",
       " 'bt_dl4187_15a_russikerstr',\n",
       " 'bt_dl4188_15a_russikerstr',\n",
       " 'bt_dl4188_166_luppmenweg',\n",
       " 'bf_f07_23_bahnhofstr',\n",
       " 'bf_f12_47a_zurcherstr',\n",
       " 'bt_uit01_t1_rumpisweg',\n",
       " 'bt_uit01_t2_rumpisweg']"
      ]
     },
     "execution_count": 163,
     "metadata": {},
     "output_type": "execute_result"
    }
   ],
   "source": [
    "dp=DataPool()\n",
    "df_all=pd.DataFrame()\n",
    "for source in [dp.source.all()['name']]:\n",
    "\n",
    "    grouped_data=helper_functions.calculate_PSR(source_name=source, start_date=\"2021-09-01\", resolution='Y', allow_higher_samplingrates=False, )\n",
    "    df_all=pd.concat([df_all, grouped_data])\n"
   ]
  },
  {
   "cell_type": "code",
   "execution_count": 117,
   "metadata": {},
   "outputs": [
    {
     "data": {
      "image/png": "[encoded data removed]",
      "text/plain": [
       "<Figure size 1440x576 with 2 Axes>"
      ]
     },
     "metadata": {
      "needs_background": "light"
     },
     "output_type": "display_data"
    }
   ],
   "source": [
    "%matplotlib inline\n",
    "fig, ax = plt.subplots(figsize=(20, 8))\n",
    "grouped_data_long=pd.pivot(df_all, index='sensor', columns='timestamp', values='normalized_count')\n",
    "sns.heatmap(data=grouped_data_long, cmap='RdYlGn', vmin=0, vmax=1, ax=ax)\n",
    "ax.set_xticklabels([pd.to_datetime(t.get_text()).strftime('%D') for t in ax.get_xticklabels()]);"
   ]
  }
 ],
 "metadata": {
  "kernelspec": {
   "display_name": "Python 3.10.4 ('zivi2')",
   "language": "python",
   "name": "python3"
  },
  "language_info": {
   "codemirror_mode": {
    "name": "ipython",
    "version": 3
   },
   "file_extension": ".py",
   "mimetype": "text/x-python",
   "name": "python",
   "nbconvert_exporter": "python",
   "pygments_lexer": "ipython3",
   "version": "3.10.4"
  },
  "orig_nbformat": 4,
  "vscode": {
   "interpreter": {
    "hash": "08eb65fc6abe2134183eca657699ed17b99ca7fdb4c51a541479ddf730d9297b"
   }
  }
 },
 "nbformat": 4,
 "nbformat_minor": 2
}
