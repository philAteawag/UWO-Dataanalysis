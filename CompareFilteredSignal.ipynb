{
 "cells": [
  {
   "cell_type": "markdown",
   "metadata": {},
   "source": [
    "### Interactive notebook to compare singals of sensors visually\n",
    "\n",
    "Multiple sensors can be loaded and compared. Signal is downsampled to a frequency of 1h such that the plots respond fast. The signal can be smoothed to find trends, see if they measure similiarly once the noise is removed. the signal can also be normalized which allows for comparison of sensors even if absoult values are at different scale"
   ]
  },
  {
   "cell_type": "code",
   "execution_count": 1,
   "metadata": {},
   "outputs": [
    {
     "data": {
      "text/html": [
       "        <script type=\"text/javascript\">\n",
       "        window.PlotlyConfig = {MathJaxConfig: 'local'};\n",
       "        if (window.MathJax && window.MathJax.Hub && window.MathJax.Hub.Config) {window.MathJax.Hub.Config({SVG: {font: \"STIX-Web\"}});}\n",
       "        if (typeof require !== 'undefined') {\n",
       "        require.undef(\"plotly\");\n",
       "        requirejs.config({\n",
       "            paths: {\n",
       "                'plotly': ['https://cdn.plot.ly/plotly-2.14.0.min']\n",
       "            }\n",
       "        });\n",
       "        require(['plotly'], function(Plotly) {\n",
       "            window._Plotly = Plotly;\n",
       "        });\n",
       "        }\n",
       "        </script>\n",
       "        "
      ]
     },
     "metadata": {},
     "output_type": "display_data"
    }
   ],
   "source": [
    "import sys\n",
    "sys.path.append(r'C:\\Users\\steineph\\DataAnalysis\\UWO-Dataanalysis\\libs')\n",
    "from UWO_DataAnalysis import helper_functions\n",
    "from ipywidgets import interact, interactive, fixed, interact_manual\n",
    "import ipywidgets as widgets\n",
    "\n",
    "%load_ext autoreload\n",
    "%autoreload 2"
   ]
  },
  {
   "cell_type": "code",
   "execution_count": 2,
   "metadata": {},
   "outputs": [
    {
     "name": "stdout",
     "output_type": "stream",
     "text": [
      "You are successfully connected to the database!\n"
     ]
    }
   ],
   "source": [
    "data_dataframe1=helper_functions.filter_db_for_boxplot(sensor_group='bf', start='2016-01-01', parameter_unit='l/s', keyword='test')\n",
    "data_dataframe=helper_functions.downsample_data(dataframe=data_dataframe1, timestamp_col_name='timestamp', groupby_att=['source_name', 'parameter_name', 'unit'])\n"
   ]
  },
  {
   "cell_type": "code",
   "execution_count": 3,
   "metadata": {},
   "outputs": [
    {
     "data": {
      "application/vnd.jupyter.widget-view+json": {
       "model_id": "9a4d6324f2d8459eb348e391865c018b",
       "version_major": 2,
       "version_minor": 0
      },
      "text/plain": [
       "interactive(children=(SelectMultiple(description='Select the parameters that should be compared', layout=Layou…"
      ]
     },
     "metadata": {},
     "output_type": "display_data"
    }
   ],
   "source": [
    "def filter_data(data, valid_parameters, valid_sources):\n",
    "\n",
    "    plot_data=data_dataframe[data_dataframe['parameter_name'].isin(valid_parameters)]\n",
    "    plot_data=plot_data[plot_data['source_name'].isin(valid_sources)]\n",
    "\n",
    "    return plot_data\n",
    "\n",
    "# Define a function that updates the content of y based on what we select for x\n",
    "def update_multiple_widgets(*args):\n",
    "    y_widget.options = data_dataframe[data_dataframe['parameter_name'].isin(x_widget.value)]['source_name'].unique().tolist()\n",
    "    \n",
    "x_widget = helper_functions.generate_SelectMultipleWidget_for_boxplot(data=data_dataframe, column_name='parameter_name')\n",
    "y_widget = widgets.SelectMultiple()\n",
    "\n",
    "x_widget.observe(update_multiple_widgets)\n",
    "\n",
    "filter=interactive(filter_data, data=fixed(data_dataframe), valid_parameters=x_widget, valid_sources=y_widget)\n",
    "display(filter)"
   ]
  },
  {
   "cell_type": "code",
   "execution_count": 4,
   "metadata": {},
   "outputs": [
    {
     "data": {
      "application/vnd.jupyter.widget-view+json": {
       "model_id": "e16e78b6b5a443d99e36f9336ddaf119",
       "version_major": 2,
       "version_minor": 0
      },
      "text/plain": [
       "interactive(children=(SelectMultiple(description='Select the parameters that should be compared', layout=Layou…"
      ]
     },
     "metadata": {},
     "output_type": "display_data"
    },
    {
     "data": {
      "text/plain": [
       "<function UWO_DataAnalysis.helper_functions.plot_flattened_signal(data, group_att='source_name', value_column='value', valid_parameters='', valid_sources='', timestamp_column='timestamp', median_win_size=3, mean_win_size=24, normalize=None, min_max=[0, 100])>"
      ]
     },
     "execution_count": 4,
     "metadata": {},
     "output_type": "execute_result"
    }
   ],
   "source": [
    "interact(helper_functions.plot_flattened_signal, data=fixed(data_dataframe), valid_parameters = x_widget, \n",
    "    valid_sources=y_widget, group_att=fixed('source_name'), value_column=fixed('value'), timestamp_column=fixed('timestamp'),\n",
    "    min_max=helper_functions.generate_accepted_values(data=data_dataframe['value']),\n",
    "    median_win_size=helper_functions.generate_Slider_for_noise_filtering(),\n",
    "    mean_win_size=helper_functions.generate_Slider_for_smoothing(), \n",
    "    normalize=helper_functions.generate_Options_for_normalizing(),\n",
    "    )"
   ]
  },
  {
   "cell_type": "code",
   "execution_count": null,
   "metadata": {},
   "outputs": [],
   "source": []
  }
 ],
 "metadata": {
  "kernelspec": {
   "display_name": "Python 3.10.4 ('zivi2')",
   "language": "python",
   "name": "python3"
  },
  "language_info": {
   "codemirror_mode": {
    "name": "ipython",
    "version": 3
   },
   "file_extension": ".py",
   "mimetype": "text/x-python",
   "name": "python",
   "nbconvert_exporter": "python",
   "pygments_lexer": "ipython3",
   "version": "3.10.4"
  },
  "orig_nbformat": 4,
  "vscode": {
   "interpreter": {
    "hash": "08eb65fc6abe2134183eca657699ed17b99ca7fdb4c51a541479ddf730d9297b"
   }
  }
 },
 "nbformat": 4,
 "nbformat_minor": 2
}
