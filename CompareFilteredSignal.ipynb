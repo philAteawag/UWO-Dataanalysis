{
 "cells": [
  {
   "cell_type": "markdown",
   "metadata": {},
   "source": [
    "### Interactive notebook to compare singals of sensors visually\n",
    "\n",
    "Multiple sensors can be loaded and compared. Signal is downsampled to a frequency of 1h such that the plots respond fast. The signal can be smoothed to find trends, see if they measure similiarly once the noise is removed. the signal can also be normalized which allows for comparison of sensors even if absoult values are at different scale"
   ]
  },
  {
   "cell_type": "code",
   "execution_count": 6,
   "metadata": {},
   "outputs": [
    {
     "name": "stdout",
     "output_type": "stream",
     "text": [
      "The autoreload extension is already loaded. To reload it, use:\n",
      "  %reload_ext autoreload\n"
     ]
    }
   ],
   "source": [
    "import sys\n",
    "sys.path.append(r'C:\\Users\\steineph\\DataAnalysis\\UWO-Dataanalysis\\libs')\n",
    "from UWO_DataAnalysis import helper_functions\n",
    "from ipywidgets import interact, interactive, fixed, interact_manual\n",
    "import ipywidgets as widgets\n",
    "\n",
    "%load_ext autoreload\n",
    "%autoreload 2"
   ]
  },
  {
   "cell_type": "code",
   "execution_count": 22,
   "metadata": {},
   "outputs": [
    {
     "name": "stdout",
     "output_type": "stream",
     "text": [
      "You are successfully connected to the database!\n"
     ]
    }
   ],
   "source": [
    "data_dataframe1=helper_functions.filter_db_for_boxplot(sensor_group='bt', start='2016-01-01', parameter_unit='°C', keyword='test')\n",
    "data_dataframe=helper_functions.downsample_data(dataframe=data_dataframe1, timestamp_col_name='timestamp', groupby_att=['source_name', 'parameter_name', 'unit'])\n"
   ]
  },
  {
   "cell_type": "code",
   "execution_count": 20,
   "metadata": {},
   "outputs": [
    {
     "data": {
      "application/vnd.jupyter.widget-view+json": {
       "model_id": "1c20141f59cb40a3b2bfc15a98271880",
       "version_major": 2,
       "version_minor": 0
      },
      "text/plain": [
       "interactive(children=(SelectMultiple(description='Select the parameters that should be compared', layout=Layou…"
      ]
     },
     "metadata": {},
     "output_type": "display_data"
    }
   ],
   "source": [
    "def filter_data(data, valid_parameters, valid_sources):\n",
    "\n",
    "    plot_data=data_dataframe[data_dataframe['parameter_name'].isin(valid_parameters)]\n",
    "    plot_data=plot_data[plot_data['source_name'].isin(valid_sources)]\n",
    "\n",
    "    return plot_data\n",
    "\n",
    "# Define a function that updates the content of y based on what we select for x\n",
    "def update_multiple_widgets(*args):\n",
    "    y_widget.options = data_dataframe[data_dataframe['parameter_name'].isin(x_widget.value)]['source_name'].unique().tolist()\n",
    "    \n",
    "x_widget = helper_functions.generate_SelectMultipleWidget_for_boxplot(data=data_dataframe, column_name='parameter_name')\n",
    "y_widget = widgets.SelectMultiple()\n",
    "\n",
    "x_widget.observe(update_multiple_widgets)\n",
    "\n",
    "filter=interactive(filter_data, data=fixed(data_dataframe), valid_parameters=x_widget, valid_sources=y_widget)\n",
    "display(filter)"
   ]
  },
  {
   "cell_type": "code",
   "execution_count": null,
   "metadata": {},
   "outputs": [],
   "source": [
    "interact(helper_functions.plot_flattened_signal, data=fixed(data_dataframe), valid_parameters = x_widget, \n",
    "    valid_sources=y_widget, group_att=fixed('source_name'), value_column=fixed('value'), timestamp_column=fixed('timestamp'),\n",
    "    min_max=helper_functions.generate_accepted_values(data=data_dataframe['value']),\n",
    "    median_win_size=helper_functions.generate_Slider_for_noise_filtering(),\n",
    "    mean_win_size=helper_functions.generate_Slider_for_smoothing(), \n",
    "    normalize=helper_functions.generate_Options_for_normalizing(),\n",
    "    )"
   ]
  },
  {
   "cell_type": "code",
   "execution_count": null,
   "metadata": {},
   "outputs": [],
   "source": []
  }
 ],
 "metadata": {
  "kernelspec": {
   "display_name": "Python 3.10.4 ('zivi2')",
   "language": "python",
   "name": "python3"
  },
  "language_info": {
   "codemirror_mode": {
    "name": "ipython",
    "version": 3
   },
   "file_extension": ".py",
   "mimetype": "text/x-python",
   "name": "python",
   "nbconvert_exporter": "python",
   "pygments_lexer": "ipython3",
   "version": "3.10.4"
  },
  "orig_nbformat": 4,
  "vscode": {
   "interpreter": {
    "hash": "08eb65fc6abe2134183eca657699ed17b99ca7fdb4c51a541479ddf730d9297b"
   }
  }
 },
 "nbformat": 4,
 "nbformat_minor": 2
}
